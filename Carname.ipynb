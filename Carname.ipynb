{
  "nbformat": 4,
  "nbformat_minor": 0,
  "metadata": {
    "colab": {
      "provenance": []
    },
    "kernelspec": {
      "name": "python3",
      "display_name": "Python 3"
    },
    "language_info": {
      "name": "python"
    }
  },
  "cells": [
    {
      "cell_type": "code",
      "execution_count": null,
      "metadata": {
        "colab": {
          "base_uri": "https://localhost:8080/"
        },
        "id": "_VhZ0yV7HdKm",
        "outputId": "ce5b1f9b-09d1-49b3-dc40-f8ceb642b254"
      },
      "outputs": [
        {
          "output_type": "stream",
          "name": "stdout",
          "text": [
            "Enter an alphabet: u\n",
            "Suggested sports car brand: Urus\n"
          ]
        }
      ],
      "source": [
        "def generate_car_name(alphabet):\n",
        "    sports_car_brands = {\n",
        "        'A': ['Aston Martin', 'Acura'],\n",
        "        'B': ['Bugatti', 'BMW'],\n",
        "        'C': ['Chevrolet', 'Cadillac'],\n",
        "        'D': ['Dodge'],\n",
        "        'E': ['Endeavour'],\n",
        "        'F': ['Ferrari', 'Ford'],\n",
        "        'G': ['Gwagon'],\n",
        "        'H': ['Hummer'],\n",
        "        'I': ['Isuzu'],\n",
        "        'J': ['Jaguar'],\n",
        "        'K': ['Koenigsegg'],\n",
        "        'L': ['Lamborghini', 'Lotus'],\n",
        "        'M': ['McLaren'],\n",
        "        'N': ['Nissan'],\n",
        "        'O': ['Octavia'],\n",
        "        'P': ['Porsche'],\n",
        "        'Q': ['Quant'],\n",
        "        'R': ['Rolls-Royce'],\n",
        "        'S': ['Subaru'],\n",
        "        'T': ['Tesla'],\n",
        "        'U': ['Urus'],\n",
        "        'V': ['Volkswagen'],\n",
        "        'W': ['W lykan'],\n",
        "        'X': ['X-Bow'],\n",
        "        'Y': ['Yaris'],\n",
        "        'Z': ['Zenvo'],\n",
        "        # Add more brands and models here\n",
        "    }\n",
        "\n",
        "    if alphabet.upper() in sports_car_brands:\n",
        "        brand_list = sports_car_brands[alphabet.upper()]\n",
        "        selected_brand = brand_list[0]  # Choose the first brand in the list\n",
        "        return selected_brand\n",
        "    else:\n",
        "        return \"No sports car brand found for that letter.\"\n",
        "\n",
        "def main():\n",
        "    user_input = input(\"Enter an alphabet: \")\n",
        "    car_name = generate_car_name(user_input)\n",
        "    print(f\"Suggested sports car brand: {car_name}\")\n",
        "\n",
        "if __name__ == \"__main__\":\n",
        "    main()\n"
      ]
    }
  ]
}